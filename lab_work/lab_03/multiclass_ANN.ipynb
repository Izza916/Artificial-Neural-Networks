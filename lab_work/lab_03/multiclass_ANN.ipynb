{
  "nbformat": 4,
  "nbformat_minor": 0,
  "metadata": {
    "colab": {
      "provenance": []
    },
    "kernelspec": {
      "name": "python3",
      "display_name": "Python 3"
    },
    "language_info": {
      "name": "python"
    }
  },
  "cells": [
    {
      "cell_type": "code",
      "source": [
        "import numpy as np\n",
        "import matplotlib.pyplot as plt\n",
        "from sklearn.datasets import fetch_openml\n",
        "from sklearn.model_selection import train_test_split"
      ],
      "metadata": {
        "id": "kq1N3UkqqN1B"
      },
      "execution_count": null,
      "outputs": []
    },
    {
      "cell_type": "code",
      "source": [
        "np.random.seed(7) # To make repeatable\n",
        "LEARNING_RATE = 0.01\n",
        "EPOCHS = 20"
      ],
      "metadata": {
        "id": "GjgebmplqREO"
      },
      "execution_count": null,
      "outputs": []
    },
    {
      "cell_type": "code",
      "source": [
        "# Function to read dataset.\n",
        "def read_mnist():\n",
        "\n",
        "    # Load the MNIST dataset\n",
        "    mnist = fetch_openml('mnist_784', version=1)\n",
        "    X = mnist.data.to_numpy()  # Convert to NumPy array\n",
        "    y = mnist.target.to_numpy()  # Convert to NumPy array\n",
        "\n",
        "    y = y.astype(np.uint8)\n",
        "\n",
        "\n",
        "    # Split the data into training and testing sets\n",
        "    x_train, x_test, train_labels, test_labels = train_test_split(X, y, test_size=0.2, random_state=42)\n",
        "\n",
        "    #standardize.\n",
        "    mean = np.mean(x_train)\n",
        "    stddev = np.std(x_train)\n",
        "    x_train = (x_train - mean) / stddev\n",
        "\n",
        "    x_test = (x_test - mean) / stddev\n",
        "\n",
        "    # One-hot encoded output.\n",
        "    y_train = np.zeros((len(train_labels), 10))\n",
        "    y_test = np.zeros((len(test_labels), 10))\n",
        "\n",
        "    for i, y in enumerate(train_labels):\n",
        "        y_train[i][y] = 1\n",
        "\n",
        "    for i, y in enumerate(test_labels):\n",
        "        y_test[i][y] = 1\n",
        "\n",
        "    return x_train, y_train, x_test, y_test"
      ],
      "metadata": {
        "id": "zDmmf_utqSHd"
      },
      "execution_count": null,
      "outputs": []
    },
    {
      "cell_type": "code",
      "source": [
        "# Read train and test examples.\n",
        "x_train, y_train, x_test, y_test = read_mnist()\n",
        "index_list = list(range(len(x_train))) # Used for random order"
      ],
      "metadata": {
        "id": "2YvqdhxArRAU"
      },
      "execution_count": null,
      "outputs": []
    },
    {
      "cell_type": "code",
      "source": [
        "def layer_w(neuron_count, input_count):\n",
        "    weights = np.zeros((neuron_count, input_count+1))\n",
        "\n",
        "    for i in range(neuron_count):\n",
        "\n",
        "        for j in range(1, (input_count+1)):\n",
        "            weights[i][j] = np.random.uniform(-0.1, 0.1)\n",
        "\n",
        "    return weights\n",
        "\n",
        "# Declare matrices and vectors representing the neurons.\n",
        "hidden_layer_w = layer_w(25, 784)\n",
        "hidden_layer_y = np.zeros(25)\n",
        "hidden_layer_error = np.zeros(25)\n",
        "\n",
        "output_layer_w = layer_w(10, 25)\n",
        "output_layer_y = np.zeros(10)\n",
        "output_layer_error = np.zeros(10)"
      ],
      "metadata": {
        "id": "kp7IUrANrU2E"
      },
      "execution_count": null,
      "outputs": []
    },
    {
      "cell_type": "code",
      "source": [
        "chart_x = []\n",
        "chart_y_train = []\n",
        "chart_y_test = []\n",
        "\n",
        "def show_learning(epoch_no, train_acc, test_acc):\n",
        "    global chart_x\n",
        "    global chart_y_train\n",
        "    global chart_y_test\n",
        "\n",
        "    print('epoch no:', epoch_no, ', train_acc: ',\n",
        "            '%6.4f' % train_acc,\n",
        "            ', test_acc: ', '%6.4f' % test_acc)\n",
        "\n",
        "    chart_x.append(epoch_no + 1)\n",
        "    chart_y_train.append(1.0 - train_acc)\n",
        "    chart_y_test.append(1.0 - test_acc)\n",
        "\n",
        "def plot_learning():\n",
        "    plt.plot(chart_x, chart_y_train, 'r-', label='training error')\n",
        "    plt.plot(chart_x, chart_y_test, 'b-',\n",
        "    label='test error')\n",
        "    plt.axis([0, len(chart_x), 0.0, 1.0])\n",
        "    plt.xlabel('training epochs')\n",
        "    plt.ylabel('error')\n",
        "    plt.legend()\n",
        "    plt.show()"
      ],
      "metadata": {
        "id": "o36X62wotpNK"
      },
      "execution_count": null,
      "outputs": []
    },
    {
      "cell_type": "code",
      "source": [
        "def forward_pass(x):\n",
        "    global hidden_layer_y\n",
        "    global output_layer_y\n",
        "\n",
        "    # Activation function for hidden layer\n",
        "    for i, w in enumerate(hidden_layer_w):\n",
        "        z = np.dot(w, x)\n",
        "        hidden_layer_y[i] = np.tanh(z)\n",
        "    hidden_output_array = np.concatenate((np.array([1.0]), hidden_layer_y))\n",
        "\n",
        "    # Activation function for output layer\n",
        "    for i, w in enumerate(output_layer_w):\n",
        "        z = np.dot(w, hidden_output_array)\n",
        "        output_layer_y[i] = 1.0 / (1.0 + np.exp(-z))\n",
        "\n",
        "\n",
        "def backward_pass(y_truth):\n",
        "    global hidden_layer_error\n",
        "    global output_layer_error\n",
        "    # Backpropagate error for each output neuron\n",
        "\n",
        "    # and create array of all output neuron errors.\n",
        "    for i, y in enumerate(output_layer_y):\n",
        "        error_prime = -(y_truth[i] - y) # Loss derivative\n",
        "        derivative = y * (1.0 - y) # Logistic derivative\n",
        "        output_layer_error[i] = error_prime * derivative\n",
        "\n",
        "    for i, y in enumerate(hidden_layer_y):\n",
        "        # Create array weights connecting the output of\n",
        "        # hidden neuron i to neurons in the output layer.\n",
        "        error_weights = []\n",
        "\n",
        "        for w in output_layer_w:\n",
        "            error_weights.append(w[i+1])\n",
        "\n",
        "        # Moved error_weight_array creation outside inner loop\n",
        "        error_weight_array = np.array(error_weights)\n",
        "\n",
        "        # Backpropagate error for hidden neuron.\n",
        "        derivative = 1.0 - y**2 # tanh derivative\n",
        "        weighted_error = np.dot(error_weight_array, output_layer_error)\n",
        "        hidden_layer_error[i] = weighted_error * derivative\n",
        "\n",
        "\n",
        "def adjust_weights(x):\n",
        "    global output_layer_w\n",
        "    global hidden_layer_w\n",
        "\n",
        "    for i, error in enumerate(hidden_layer_error):\n",
        "        hidden_layer_w[i] -= (x * LEARNING_RATE * error) # Update all weights\n",
        "        hidden_output_array = np.concatenate((np.array([1.0]), hidden_layer_y))\n",
        "\n",
        "    for i, error in enumerate(output_layer_error):\n",
        "        output_layer_w[i] -= (hidden_output_array * LEARNING_RATE * error) # Update all weights"
      ],
      "metadata": {
        "id": "Sac2EeBAuKGp"
      },
      "execution_count": null,
      "outputs": []
    },
    {
      "cell_type": "code",
      "source": [
        "# Network training loop.\n",
        "for i in range(EPOCHS): # Train EPOCHS iterations\n",
        "    np.random.shuffle(index_list) # Randomize order\n",
        "    correct_training_results = 0\n",
        "\n",
        "    for j in index_list: # Train on all examples\n",
        "        x = np.concatenate((np.array([1.0]), x_train[j]))\n",
        "        forward_pass(x)\n",
        "\n",
        "        if output_layer_y.argmax() == y_train[j].argmax():\n",
        "              correct_training_results += 1\n",
        "\n",
        "        backward_pass(y_train[j])\n",
        "\n",
        "        adjust_weights(x)\n",
        "\n",
        "    correct_test_results = 0\n",
        "\n",
        "    for j in range(len(x_test)): # Evaluate network\n",
        "        x = np.concatenate((np.array([1.0]), x_test[j]))\n",
        "        forward_pass(x)\n",
        "\n",
        "        if output_layer_y.argmax() == y_test[j].argmax():\n",
        "            correct_test_results += 1\n",
        "    # Show progress.\n",
        "    show_learning(i, correct_training_results/len(x_train), correct_test_results/len(x_test))\n",
        "\n",
        "plot_learning() # Create plot"
      ],
      "metadata": {
        "colab": {
          "base_uri": "https://localhost:8080/",
          "height": 802
        },
        "id": "4RXb4brBvhWI",
        "outputId": "93d34a5c-6982-461f-924b-9fa6866e5c72"
      },
      "execution_count": null,
      "outputs": [
        {
          "output_type": "stream",
          "name": "stdout",
          "text": [
            "epoch no: 0 , train_acc:  0.8582 , test_acc:  0.9184\n",
            "epoch no: 1 , train_acc:  0.9228 , test_acc:  0.9295\n",
            "epoch no: 2 , train_acc:  0.9323 , test_acc:  0.9305\n",
            "epoch no: 3 , train_acc:  0.9366 , test_acc:  0.9322\n",
            "epoch no: 4 , train_acc:  0.9409 , test_acc:  0.9344\n",
            "epoch no: 5 , train_acc:  0.9447 , test_acc:  0.9363\n",
            "epoch no: 6 , train_acc:  0.9459 , test_acc:  0.9373\n",
            "epoch no: 7 , train_acc:  0.9471 , test_acc:  0.9374\n",
            "epoch no: 8 , train_acc:  0.9506 , test_acc:  0.9377\n",
            "epoch no: 9 , train_acc:  0.9506 , test_acc:  0.9382\n",
            "epoch no: 10 , train_acc:  0.9530 , test_acc:  0.9374\n",
            "epoch no: 11 , train_acc:  0.9533 , test_acc:  0.9397\n",
            "epoch no: 12 , train_acc:  0.9543 , test_acc:  0.9399\n",
            "epoch no: 13 , train_acc:  0.9555 , test_acc:  0.9423\n",
            "epoch no: 14 , train_acc:  0.9567 , test_acc:  0.9411\n",
            "epoch no: 15 , train_acc:  0.9573 , test_acc:  0.9418\n",
            "epoch no: 16 , train_acc:  0.9574 , test_acc:  0.9419\n",
            "epoch no: 17 , train_acc:  0.9574 , test_acc:  0.9398\n",
            "epoch no: 18 , train_acc:  0.9589 , test_acc:  0.9445\n",
            "epoch no: 19 , train_acc:  0.9587 , test_acc:  0.9421\n"
          ]
        },
        {
          "output_type": "display_data",
          "data": {
            "text/plain": [
              "<Figure size 640x480 with 1 Axes>"
            ],
            "image/png": "[encoded data removed]"
          },
          "metadata": {}
        }
      ]
    },
    {
      "cell_type": "code",
      "source": [],
      "metadata": {
        "id": "QKTu70sWwD-4"
      },
      "execution_count": null,
      "outputs": []
    }
  ]
}